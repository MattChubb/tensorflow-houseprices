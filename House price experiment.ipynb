{
 "cells": [
  {
   "cell_type": "code",
   "execution_count": 1,
   "metadata": {},
   "outputs": [],
   "source": [
    "# Package imports\n",
    "import matplotlib.pyplot as plt\n",
    "import numpy as np\n",
    "import sklearn\n",
    "import sklearn.datasets\n",
    "import sklearn.linear_model\n",
    "import matplotlib \n",
    "\n",
    "# Display plots inline and change default figure size\n",
    "%matplotlib inline\n",
    "matplotlib.rcParams['figure.figsize'] = (10.0, 8.0)"
   ]
  },
  {
   "cell_type": "code",
   "execution_count": 2,
   "metadata": {},
   "outputs": [],
   "source": [
    "def normalise(array):\n",
    "    # ((X - X_min)/(X_max - X_min) * 2) - 1\n",
    "    min_value = array.min()\n",
    "    max_value = array.max()\n",
    "    \n",
    "    normalised_array = ((array - min_value)/(max_value - min_value) * 2) - 1\n",
    "    \n",
    "    return normalised_array\n",
    "\n",
    "def make_two_dimensional_ndarray(x, y):\n",
    "    return np.array([x, y]).transpose()\n",
    "\n",
    "def normalise_all_columns(ndarray):\n",
    "    cols = ndarray.shape[1]\n",
    "    columns = []\n",
    "    for i in range(cols):\n",
    "        unnormalised = np.array([element[i] for element in ndarray])\n",
    "        normalised = normalise(unnormalised)\n",
    "        columns.append(normalised)\n",
    "    return np.array(columns).transpose()\n"
   ]
  },
  {
   "cell_type": "code",
   "execution_count": 3,
   "metadata": {},
   "outputs": [],
   "source": [
    "# Helper function to plot a decision boundary.\n",
    "def plot_decision_boundary(pred_func, X, y):\n",
    "    # Set min and max values and give it some padding\n",
    "    x_min, x_max = X[:, 0].min(), X[:, 0].max()\n",
    "    y_min, y_max = X[:, 1].min(), X[:, 1].max()\n",
    "    \n",
    "    x_range = x_max - x_min\n",
    "    y_range = y_max - y_min\n",
    "    \n",
    "    padding_ratio = 0.1\n",
    "    \n",
    "    x_pad = x_range * padding_ratio\n",
    "    y_pad = y_range * padding_ratio\n",
    "    \n",
    "    x_h = x_range / 1000\n",
    "    y_h = y_range / 1000\n",
    "    # Generate a grid of points with distance h between them\n",
    "    xx, yy = np.meshgrid(\n",
    "        np.arange(x_min - x_pad, x_max + x_pad, x_h),\n",
    "        np.arange(y_min - y_pad, y_max + y_pad, y_h)\n",
    "    )\n",
    "    # Predict the function value for the whole gid\n",
    "    Z = pred_func(np.c_[xx.ravel(), yy.ravel()])\n",
    "    Z = Z.reshape(xx.shape)\n",
    "    \n",
    "    # Plot the contour and training examples\n",
    "    plt.figure(figsize=(20,20))\n",
    "#     plt.contourf(xx, yy, Z, cmap=plt.cm.Spectral)\n",
    "    plt.contour(xx, yy, Z, cmap=plt.cm.Spectral)\n",
    "    plt.scatter(X[:, 0], X[:, 1], c=y, cmap=plt.cm.Spectral)"
   ]
  },
  {
   "cell_type": "code",
   "execution_count": 4,
   "metadata": {},
   "outputs": [
    {
     "name": "stdout",
     "output_type": "stream",
     "text": [
      "500\n",
      "(array([-0.15239745,  0.21860468], dtype=float32), 1035000.0)\n"
     ]
    }
   ],
   "source": [
    "# Import house price data\n",
    "melbourne_dtypes = {\n",
    "    'names': ('price', 'lat', 'lon'),\n",
    "    'formats': ('float32', 'float32', 'float32')\n",
    "}\n",
    "melbourne_txns = np.genfromtxt('data/Melbourne_housing_noblanks.csv',\n",
    "                             delimiter=',', usecols=(4,17,18), skip_header=1, \n",
    "                             dtype=melbourne_dtypes, max_rows=500)\n",
    "\n",
    "y_prices = np.array([txn[0] for txn in melbourne_txns])\n",
    "\n",
    "lat_unnormalised = np.array([txn[1] for txn in melbourne_txns])\n",
    "lon_unnormalised = np.array([txn[2] for txn in melbourne_txns])\n",
    "\n",
    "X = normalise_all_columns(\n",
    "    make_two_dimensional_ndarray(\n",
    "        lat_unnormalised,\n",
    "        lon_unnormalised\n",
    "    )\n",
    ")\n",
    "\n",
    "# X = np.array([[txn[1], txn[2]] for txn in melbourne_txns])\n",
    "\n",
    "print(y_prices.size)\n",
    "print(X[1], y_prices[1])"
   ]
  },
  {
   "cell_type": "code",
   "execution_count": 19,
   "metadata": {},
   "outputs": [],
   "source": [
    "# Imports and config\n",
    "import tensorflow as tf\n",
    "import numpy as np\n",
    "\n",
    "num_of_results = y_prices.size\n",
    "input_layer_size = 2\n",
    "hidden_layer_size = 30\n",
    "output_layer_size = 1\n",
    "learning_rate=0.1\n",
    "training_steps = 5000"
   ]
  },
  {
   "cell_type": "code",
   "execution_count": 13,
   "metadata": {},
   "outputs": [],
   "source": [
    "# Manually-created NN\n",
    "\n",
    "# Our input layer is the x and y coords\n",
    "input = tf.placeholder(tf.float32)\n",
    "\n",
    "# Our target is the probability of each of the cities for each coordinate\n",
    "target = tf.constant(y_prices)\n",
    "\n",
    "# Offset in\n",
    "offset_in = tf.Variable(tf.random_normal([input_layer_size], 0, 0.1))\n",
    "scale_in = tf.Variable(tf.random_normal([input_layer_size], 0, 0.1))\n",
    "input_offset = input*scale_in + offset_in\n",
    "\n",
    "# Weights for mapping input to HL\n",
    "weights_W1 = tf.Variable(tf.random_normal([input_layer_size, hidden_layer_size], 0, 0.1))\n",
    "bias_W1 = tf.Variable(tf.random_normal([hidden_layer_size], 0, 0.1))\n",
    "\n",
    "# Hidden layer\n",
    "# h1 = tf.nn.bias_add(tf.matmul(input, weights_W1), bias_W1)\n",
    "h1 = tf.nn.bias_add(tf.matmul(input_offset, weights_W1), bias_W1)\n",
    "h2 = tf.tanh(h1)\n",
    "\n",
    "# Map HL to output\n",
    "weights_W2 = tf.Variable(tf.random_normal([hidden_layer_size, output_layer_size], 0, 0.1))\n",
    "bias_W2 = tf.Variable(tf.random_normal([output_layer_size], 0, 0.1))\n",
    "\n",
    "# Output layer\n",
    "yhat = tf.nn.bias_add(\n",
    "        tf.matmul(h2, weights_W2),\n",
    "        bias_W2)\n",
    "\n",
    "# Offset out\n",
    "offset_out = tf.Variable(tf.random_normal([output_layer_size], 0, 0.1))\n",
    "scale_out = tf.Variable(tf.random_normal([output_layer_size], 1000000, 0.1))\n",
    "yhat_out = yhat*scale_out + offset_out\n",
    "\n",
    "# Hidden layer 2\n",
    "weights_W1b = tf.Variable(tf.random_normal([hidden_layer_size, hidden_layer_size], 0, 0.1))\n",
    "bias_W1b = tf.Variable(tf.random_normal([hidden_layer_size], 0, 0.1))\n",
    "h3 = tf.matmul(h2, weights_W1b)\n",
    "h4 = tf.tanh(h3)\n",
    "# h4 = tf.sigmoid(h3)\n",
    "yhat = tf.nn.bias_add(\n",
    "        tf.matmul(h4, weights_W2),\n",
    "        bias_W2)\n",
    "\n",
    "# Hidden layer 3\n",
    "# weights_W1c = tf.Variable(tf.random_normal([hidden_layer_size, hidden_layer_size], 0, 0.1))\n",
    "# bias_W1c = tf.Variable(tf.random_normal([hidden_layer_size], 0, 0.1))\n",
    "# h5 = tf.matmul(h4, weights_W1c)\n",
    "# h6 = tf.tanh(h5)\n",
    "# yhat = tf.nn.bias_add(\n",
    "#         tf.matmul(h6, weights_W2),\n",
    "#         bias_W2)\n",
    "\n",
    "\n",
    "# Compute the error\n",
    "# yerror = tf.reduce_logsumexp(tf.subtract(yhat, target))\n",
    "# yerror = tf.reduce_logsumexp(tf.subtract(yhat_out, target))\n",
    "yerror = tf.subtract(yhat_out, target)\n",
    "loss = tf.nn.l2_loss(yerror)\n",
    "\n",
    "# Optimise the weights\n",
    "# update_weights = tf.train.GradientDescentOptimizer(learning_rate).minimize(loss)\n",
    "update_weights = tf.train.AdamOptimizer().minimize(loss)"
   ]
  },
  {
   "cell_type": "code",
   "execution_count": 17,
   "metadata": {},
   "outputs": [
    {
     "name": "stdout",
     "output_type": "stream",
     "text": [
      "[[1123205. ]\n",
      " [1123205. ]\n",
      " [1123204.4]]\n"
     ]
    }
   ],
   "source": [
    "# Train NN and predict\n",
    "\n",
    "losses = []\n",
    "prediction_areas = [\n",
    "    [-37.81053, 144.88467], # 1480000\n",
    "    [-37.82286, 144.87856],  #  705000\n",
    "    [-0.15239745,  0.21860468] #1035000.0]\n",
    "]\n",
    "\n",
    "with tf.Session() as sess:\n",
    "    tf.global_variables_initializer().run()\n",
    "    \n",
    "    for i in range(training_steps):\n",
    "        sess.run(update_weights, feed_dict = {input: X})\n",
    "\n",
    "        loss_ = loss.eval(feed_dict = {input: X})\n",
    "        losses.append(loss_)\n",
    "\n",
    "    def predict(coords):\n",
    "        return yhat_out.eval(feed_dict = {input: coords})\n",
    "#         return np.argmax(yhat.eval(feed_dict = {input: coords}), axis=1)\n",
    "\n",
    "#     prediction_areas = normalise_all_columns(\n",
    "#         make_two_dimensional_ndarray(\n",
    "#             [-37.81053, -37.82286],\n",
    "#             [144.87856, 144.87856]\n",
    "#             # [1480000, 705000]\n",
    "#         ))\n",
    "    print(predict(prediction_areas))"
   ]
  },
  {
   "cell_type": "code",
   "execution_count": 22,
   "metadata": {},
   "outputs": [
    {
     "name": "stdout",
     "output_type": "stream",
     "text": [
      "INFO:tensorflow:Using default config.\n",
      "WARNING:tensorflow:Using temporary folder as model directory: /tmp/tmpRNFNtX\n",
      "INFO:tensorflow:Using config: {'_save_checkpoints_secs': 600, '_session_config': None, '_keep_checkpoint_max': 5, '_task_type': 'worker', '_global_id_in_cluster': 0, '_is_chief': True, '_cluster_spec': <tensorflow.python.training.server_lib.ClusterSpec object at 0x7f77deb39bd0>, '_evaluation_master': '', '_save_checkpoints_steps': None, '_keep_checkpoint_every_n_hours': 10000, '_service': None, '_num_ps_replicas': 0, '_tf_random_seed': None, '_master': '', '_device_fn': None, '_num_worker_replicas': 1, '_task_id': 0, '_log_step_count_steps': 100, '_model_dir': '/tmp/tmpRNFNtX', '_train_distribute': None, '_save_summary_steps': 100}\n"
     ]
    }
   ],
   "source": [
    "# Set up tf estimator\n",
    "train = x\n",
    "def input_train():\n",
    "    return(\n",
    "        X.shuffle(1000).batch(128)\\\n",
    "            .repeat().make_one_shot_iterator().get_next())\n",
    "\n",
    "feature_columns = [\n",
    "    tf.feature_column.numeric_column(key='lat'),\n",
    "    tf.feature_column.numeric_column(key='lon')\n",
    "]\n",
    "\n",
    "model = tf.estimator.DNNRegressor(\n",
    "    hidden_units=[30, 30],\n",
    "    feature_columns=feature_columns,\n",
    "    optimizer=tf.train.AdamOptimizer()\n",
    ")"
   ]
  },
  {
   "cell_type": "code",
   "execution_count": 24,
   "metadata": {},
   "outputs": [
    {
     "ename": "AttributeError",
     "evalue": "'numpy.ndarray' object has no attribute 'shuffle'",
     "output_type": "error",
     "traceback": [
      "\u001b[0;31m---------------------------------------------------------------------------\u001b[0m",
      "\u001b[0;31mAttributeError\u001b[0m                            Traceback (most recent call last)",
      "\u001b[0;32m<ipython-input-24-96ff27a77555>\u001b[0m in \u001b[0;36m<module>\u001b[0;34m()\u001b[0m\n\u001b[1;32m      1\u001b[0m \u001b[0;31m# Train tf estimator\u001b[0m\u001b[0;34m\u001b[0m\u001b[0;34m\u001b[0m\u001b[0m\n\u001b[1;32m      2\u001b[0m model.train(input_fn=input_train,\n\u001b[0;32m----> 3\u001b[0;31m            steps=training_steps)\n\u001b[0m",
      "\u001b[0;32m/usr/local/lib/python2.7/dist-packages/tensorflow/python/estimator/estimator.pyc\u001b[0m in \u001b[0;36mtrain\u001b[0;34m(self, input_fn, hooks, steps, max_steps, saving_listeners)\u001b[0m\n\u001b[1;32m    374\u001b[0m \u001b[0;34m\u001b[0m\u001b[0m\n\u001b[1;32m    375\u001b[0m       \u001b[0msaving_listeners\u001b[0m \u001b[0;34m=\u001b[0m \u001b[0m_check_listeners_type\u001b[0m\u001b[0;34m(\u001b[0m\u001b[0msaving_listeners\u001b[0m\u001b[0;34m)\u001b[0m\u001b[0;34m\u001b[0m\u001b[0m\n\u001b[0;32m--> 376\u001b[0;31m       \u001b[0mloss\u001b[0m \u001b[0;34m=\u001b[0m \u001b[0mself\u001b[0m\u001b[0;34m.\u001b[0m\u001b[0m_train_model\u001b[0m\u001b[0;34m(\u001b[0m\u001b[0minput_fn\u001b[0m\u001b[0;34m,\u001b[0m \u001b[0mhooks\u001b[0m\u001b[0;34m,\u001b[0m \u001b[0msaving_listeners\u001b[0m\u001b[0;34m)\u001b[0m\u001b[0;34m\u001b[0m\u001b[0m\n\u001b[0m\u001b[1;32m    377\u001b[0m       \u001b[0mlogging\u001b[0m\u001b[0;34m.\u001b[0m\u001b[0minfo\u001b[0m\u001b[0;34m(\u001b[0m\u001b[0;34m'Loss for final step: %s.'\u001b[0m\u001b[0;34m,\u001b[0m \u001b[0mloss\u001b[0m\u001b[0;34m)\u001b[0m\u001b[0;34m\u001b[0m\u001b[0m\n\u001b[1;32m    378\u001b[0m       \u001b[0;32mreturn\u001b[0m \u001b[0mself\u001b[0m\u001b[0;34m\u001b[0m\u001b[0m\n",
      "\u001b[0;32m/usr/local/lib/python2.7/dist-packages/tensorflow/python/estimator/estimator.pyc\u001b[0m in \u001b[0;36m_train_model\u001b[0;34m(self, input_fn, hooks, saving_listeners)\u001b[0m\n\u001b[1;32m   1143\u001b[0m       \u001b[0;32mreturn\u001b[0m \u001b[0mself\u001b[0m\u001b[0;34m.\u001b[0m\u001b[0m_train_model_distributed\u001b[0m\u001b[0;34m(\u001b[0m\u001b[0minput_fn\u001b[0m\u001b[0;34m,\u001b[0m \u001b[0mhooks\u001b[0m\u001b[0;34m,\u001b[0m \u001b[0msaving_listeners\u001b[0m\u001b[0;34m)\u001b[0m\u001b[0;34m\u001b[0m\u001b[0m\n\u001b[1;32m   1144\u001b[0m     \u001b[0;32melse\u001b[0m\u001b[0;34m:\u001b[0m\u001b[0;34m\u001b[0m\u001b[0m\n\u001b[0;32m-> 1145\u001b[0;31m       \u001b[0;32mreturn\u001b[0m \u001b[0mself\u001b[0m\u001b[0;34m.\u001b[0m\u001b[0m_train_model_default\u001b[0m\u001b[0;34m(\u001b[0m\u001b[0minput_fn\u001b[0m\u001b[0;34m,\u001b[0m \u001b[0mhooks\u001b[0m\u001b[0;34m,\u001b[0m \u001b[0msaving_listeners\u001b[0m\u001b[0;34m)\u001b[0m\u001b[0;34m\u001b[0m\u001b[0m\n\u001b[0m\u001b[1;32m   1146\u001b[0m \u001b[0;34m\u001b[0m\u001b[0m\n\u001b[1;32m   1147\u001b[0m   \u001b[0;32mdef\u001b[0m \u001b[0m_train_model_default\u001b[0m\u001b[0;34m(\u001b[0m\u001b[0mself\u001b[0m\u001b[0;34m,\u001b[0m \u001b[0minput_fn\u001b[0m\u001b[0;34m,\u001b[0m \u001b[0mhooks\u001b[0m\u001b[0;34m,\u001b[0m \u001b[0msaving_listeners\u001b[0m\u001b[0;34m)\u001b[0m\u001b[0;34m:\u001b[0m\u001b[0;34m\u001b[0m\u001b[0m\n",
      "\u001b[0;32m/usr/local/lib/python2.7/dist-packages/tensorflow/python/estimator/estimator.pyc\u001b[0m in \u001b[0;36m_train_model_default\u001b[0;34m(self, input_fn, hooks, saving_listeners)\u001b[0m\n\u001b[1;32m   1165\u001b[0m       features, labels, input_hooks = (\n\u001b[1;32m   1166\u001b[0m           self._get_features_and_labels_from_input_fn(\n\u001b[0;32m-> 1167\u001b[0;31m               input_fn, model_fn_lib.ModeKeys.TRAIN))\n\u001b[0m\u001b[1;32m   1168\u001b[0m       \u001b[0mworker_hooks\u001b[0m\u001b[0;34m.\u001b[0m\u001b[0mextend\u001b[0m\u001b[0;34m(\u001b[0m\u001b[0minput_hooks\u001b[0m\u001b[0;34m)\u001b[0m\u001b[0;34m\u001b[0m\u001b[0m\n\u001b[1;32m   1169\u001b[0m       estimator_spec = self._call_model_fn(\n",
      "\u001b[0;32m/usr/local/lib/python2.7/dist-packages/tensorflow/python/estimator/estimator.pyc\u001b[0m in \u001b[0;36m_get_features_and_labels_from_input_fn\u001b[0;34m(self, input_fn, mode)\u001b[0m\n\u001b[1;32m   1009\u001b[0m           lambda: self._call_input_fn(input_fn, mode))\n\u001b[1;32m   1010\u001b[0m     \u001b[0;32melse\u001b[0m\u001b[0;34m:\u001b[0m\u001b[0;34m\u001b[0m\u001b[0m\n\u001b[0;32m-> 1011\u001b[0;31m       \u001b[0mresult\u001b[0m \u001b[0;34m=\u001b[0m \u001b[0mself\u001b[0m\u001b[0;34m.\u001b[0m\u001b[0m_call_input_fn\u001b[0m\u001b[0;34m(\u001b[0m\u001b[0minput_fn\u001b[0m\u001b[0;34m,\u001b[0m \u001b[0mmode\u001b[0m\u001b[0;34m)\u001b[0m\u001b[0;34m\u001b[0m\u001b[0m\n\u001b[0m\u001b[1;32m   1012\u001b[0m \u001b[0;34m\u001b[0m\u001b[0m\n\u001b[1;32m   1013\u001b[0m     \u001b[0;32mreturn\u001b[0m \u001b[0mestimator_util\u001b[0m\u001b[0;34m.\u001b[0m\u001b[0mparse_input_fn_result\u001b[0m\u001b[0;34m(\u001b[0m\u001b[0mresult\u001b[0m\u001b[0;34m)\u001b[0m\u001b[0;34m\u001b[0m\u001b[0m\n",
      "\u001b[0;32m/usr/local/lib/python2.7/dist-packages/tensorflow/python/estimator/estimator.pyc\u001b[0m in \u001b[0;36m_call_input_fn\u001b[0;34m(self, input_fn, mode)\u001b[0m\n\u001b[1;32m   1098\u001b[0m       \u001b[0mkwargs\u001b[0m\u001b[0;34m[\u001b[0m\u001b[0;34m'config'\u001b[0m\u001b[0;34m]\u001b[0m \u001b[0;34m=\u001b[0m \u001b[0mself\u001b[0m\u001b[0;34m.\u001b[0m\u001b[0mconfig\u001b[0m\u001b[0;34m\u001b[0m\u001b[0m\n\u001b[1;32m   1099\u001b[0m     \u001b[0;32mwith\u001b[0m \u001b[0mops\u001b[0m\u001b[0;34m.\u001b[0m\u001b[0mdevice\u001b[0m\u001b[0;34m(\u001b[0m\u001b[0;34m'/cpu:0'\u001b[0m\u001b[0;34m)\u001b[0m\u001b[0;34m:\u001b[0m\u001b[0;34m\u001b[0m\u001b[0m\n\u001b[0;32m-> 1100\u001b[0;31m       \u001b[0;32mreturn\u001b[0m \u001b[0minput_fn\u001b[0m\u001b[0;34m(\u001b[0m\u001b[0;34m**\u001b[0m\u001b[0mkwargs\u001b[0m\u001b[0;34m)\u001b[0m\u001b[0;34m\u001b[0m\u001b[0m\n\u001b[0m\u001b[1;32m   1101\u001b[0m \u001b[0;34m\u001b[0m\u001b[0m\n\u001b[1;32m   1102\u001b[0m   \u001b[0;32mdef\u001b[0m \u001b[0m_call_model_fn\u001b[0m\u001b[0;34m(\u001b[0m\u001b[0mself\u001b[0m\u001b[0;34m,\u001b[0m \u001b[0mfeatures\u001b[0m\u001b[0;34m,\u001b[0m \u001b[0mlabels\u001b[0m\u001b[0;34m,\u001b[0m \u001b[0mmode\u001b[0m\u001b[0;34m,\u001b[0m \u001b[0mconfig\u001b[0m\u001b[0;34m)\u001b[0m\u001b[0;34m:\u001b[0m\u001b[0;34m\u001b[0m\u001b[0m\n",
      "\u001b[0;32m<ipython-input-22-621934dbc9a0>\u001b[0m in \u001b[0;36minput_train\u001b[0;34m()\u001b[0m\n\u001b[1;32m      2\u001b[0m \u001b[0;32mdef\u001b[0m \u001b[0minput_train\u001b[0m\u001b[0;34m(\u001b[0m\u001b[0;34m)\u001b[0m\u001b[0;34m:\u001b[0m\u001b[0;34m\u001b[0m\u001b[0m\n\u001b[1;32m      3\u001b[0m     return(\n\u001b[0;32m----> 4\u001b[0;31m         \u001b[0mX\u001b[0m\u001b[0;34m.\u001b[0m\u001b[0mshuffle\u001b[0m\u001b[0;34m(\u001b[0m\u001b[0;36m1000\u001b[0m\u001b[0;34m)\u001b[0m\u001b[0;34m.\u001b[0m\u001b[0mbatch\u001b[0m\u001b[0;34m(\u001b[0m\u001b[0;36m128\u001b[0m\u001b[0;34m)\u001b[0m\u001b[0;31m\\\u001b[0m\u001b[0;34m\u001b[0m\u001b[0m\n\u001b[0m\u001b[1;32m      5\u001b[0m             .repeat().make_one_shot_iterator().get_next())\n\u001b[1;32m      6\u001b[0m \u001b[0;34m\u001b[0m\u001b[0m\n",
      "\u001b[0;31mAttributeError\u001b[0m: 'numpy.ndarray' object has no attribute 'shuffle'"
     ]
    }
   ],
   "source": [
    "# Train tf estimator\n",
    "model.train(input_fn=input_train,\n",
    "           steps=training_steps)"
   ]
  },
  {
   "cell_type": "code",
   "execution_count": 15,
   "metadata": {},
   "outputs": [
    {
     "data": {
      "image/png": "[encoded data removed]",
      "text/plain": [
       "<Figure size 720x288 with 1 Axes>"
      ]
     },
     "metadata": {},
     "output_type": "display_data"
    }
   ],
   "source": [
    "fig, (ax2) = plt.subplots(1)\n",
    "plt.subplots_adjust(wspace=.3)\n",
    "fig.set_size_inches(10, 4)\n",
    "\n",
    "skip=800\n",
    "ax2.plot(range(0, training_steps-skip), losses[skip:training_steps])\n",
    "ax2.set_ylabel(\"Loss\")\n",
    "ax2.set_xlabel(\"Training steps\")\n",
    "\n",
    "plt.show()"
   ]
  },
  {
   "cell_type": "markdown",
   "metadata": {},
   "source": []
  }
 ],
 "metadata": {
  "kernelspec": {
   "display_name": "Python 2",
   "language": "python",
   "name": "python2"
  },
  "language_info": {
   "codemirror_mode": {
    "name": "ipython",
    "version": 2
   },
   "file_extension": ".py",
   "mimetype": "text/x-python",
   "name": "python",
   "nbconvert_exporter": "python",
   "pygments_lexer": "ipython2",
   "version": "2.7.12"
  }
 },
 "nbformat": 4,
 "nbformat_minor": 2
}
