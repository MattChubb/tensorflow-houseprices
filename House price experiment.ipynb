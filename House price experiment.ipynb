{
 "cells": [
  {
   "cell_type": "code",
   "execution_count": 1,
   "metadata": {},
   "outputs": [],
   "source": [
    "# Package imports\n",
    "import matplotlib.pyplot as plt\n",
    "import numpy as np\n",
    "import sklearn\n",
    "import sklearn.datasets\n",
    "import sklearn.linear_model\n",
    "import matplotlib \n",
    "\n",
    "# Display plots inline and change default figure size\n",
    "%matplotlib inline\n",
    "matplotlib.rcParams['figure.figsize'] = (10.0, 8.0)"
   ]
  },
  {
   "cell_type": "code",
   "execution_count": 2,
   "metadata": {},
   "outputs": [],
   "source": [
    "def normalise(array):\n",
    "    # ((X - X_min)/(X_max - X_min) * 2) - 1\n",
    "    min_value = array.min()\n",
    "    max_value = array.max()\n",
    "    \n",
    "    normalised_array = ((array - min_value)/(max_value - min_value) * 2) - 1\n",
    "    \n",
    "    return normalised_array\n",
    "\n",
    "def make_two_dimensional_ndarray(x, y):\n",
    "    return np.array([x, y]).transpose()\n",
    "\n",
    "def normalise_all_columns(ndarray):\n",
    "    cols = ndarray.shape[1]\n",
    "    columns = []\n",
    "    for i in range(cols):\n",
    "        unnormalised = np.array([element[i] for element in ndarray])\n",
    "        normalised = normalise(unnormalised)\n",
    "        columns.append(normalised)\n",
    "    return np.array(columns).transpose()\n"
   ]
  },
  {
   "cell_type": "code",
   "execution_count": 3,
   "metadata": {},
   "outputs": [],
   "source": [
    "# Helper function to plot a decision boundary.\n",
    "def plot_decision_boundary(pred_func, X, y):\n",
    "    # Set min and max values and give it some padding\n",
    "    x_min, x_max = X[:, 0].min(), X[:, 0].max()\n",
    "    y_min, y_max = X[:, 1].min(), X[:, 1].max()\n",
    "    \n",
    "    x_range = x_max - x_min\n",
    "    y_range = y_max - y_min\n",
    "    \n",
    "    padding_ratio = 0.1\n",
    "    \n",
    "    x_pad = x_range * padding_ratio\n",
    "    y_pad = y_range * padding_ratio\n",
    "    \n",
    "    x_h = x_range / 1000\n",
    "    y_h = y_range / 1000\n",
    "    # Generate a grid of points with distance h between them\n",
    "    xx, yy = np.meshgrid(\n",
    "        np.arange(x_min - x_pad, x_max + x_pad, x_h),\n",
    "        np.arange(y_min - y_pad, y_max + y_pad, y_h)\n",
    "    )\n",
    "    # Predict the function value for the whole gid\n",
    "    Z = pred_func(np.c_[xx.ravel(), yy.ravel()])\n",
    "    Z = Z.reshape(xx.shape)\n",
    "    \n",
    "    # Plot the contour and training examples\n",
    "    plt.figure(figsize=(20,20))\n",
    "#     plt.contourf(xx, yy, Z, cmap=plt.cm.Spectral)\n",
    "    plt.contour(xx, yy, Z, cmap=plt.cm.Spectral)\n",
    "    plt.scatter(X[:, 0], X[:, 1], c=y, cmap=plt.cm.Spectral)"
   ]
  },
  {
   "cell_type": "code",
   "execution_count": 80,
   "metadata": {},
   "outputs": [
    {
     "name": "stdout",
     "output_type": "stream",
     "text": [
      "500\n",
      "(array([-0.15239745,  0.21860468], dtype=float32), 1035000.0)\n"
     ]
    }
   ],
   "source": [
    "# Import house price data\n",
    "melbourne_dtypes = {\n",
    "    'names': ('price', 'lat', 'lon'),\n",
    "    'formats': ('float32', 'float32', 'float32')\n",
    "}\n",
    "melbourne_txns = np.genfromtxt('data/Melbourne_housing_noblanks.csv',\n",
    "                             delimiter=',', usecols=(4,17,18), skip_header=1, \n",
    "                             dtype=melbourne_dtypes, max_rows=500)\n",
    "\n",
    "y_prices = np.array([txn[0] for txn in melbourne_txns])\n",
    "\n",
    "lat_unnormalised = np.array([txn[1] for txn in melbourne_txns])\n",
    "lon_unnormalised = np.array([txn[2] for txn in melbourne_txns])\n",
    "\n",
    "X = normalise_all_columns(\n",
    "    make_two_dimensional_ndarray(\n",
    "        lat_unnormalised,\n",
    "        lon_unnormalised\n",
    "    )\n",
    ")\n",
    "\n",
    "# X = np.array([[txn[1], txn[2]] for txn in melbourne_txns])\n",
    "\n",
    "print(y_prices.size)\n",
    "print(X[1], y_prices[1])"
   ]
  },
  {
   "cell_type": "code",
   "execution_count": 86,
   "metadata": {},
   "outputs": [],
   "source": [
    "import tensorflow as tf\n",
    "import numpy as np\n",
    "\n",
    "num_of_results = y_prices.size\n",
    "input_layer_size = 2\n",
    "hidden_layer_size = 30\n",
    "output_layer_size = 1\n",
    "\n",
    "# Our input layer is the x and y coords\n",
    "input = tf.placeholder(tf.float32)\n",
    "\n",
    "# Our target is the probability of each of the cities for each coordinate\n",
    "target = tf.constant(y_prices)\n",
    "\n",
    "# Offset\n",
    "offset = tf.Variable(tf.random_normal([input_layer_size], 0, 0.1))\n",
    "input_offset = input + offset\n",
    "\n",
    "# Weights for mapping input to HL\n",
    "weights_W1 = tf.Variable(tf.random_normal([input_layer_size, hidden_layer_size], 0, 0.1))\n",
    "bias_W1 = tf.Variable(tf.random_normal([hidden_layer_size], 0, 0.1))\n",
    "\n",
    "# Hidden layer\n",
    "# h1 = tf.nn.bias_add(tf.matmul(input, weights_W1), bias_W1)\n",
    "h1 = tf.nn.bias_add(tf.matmul(input_offset, weights_W1), bias_W1)\n",
    "h2 = tf.tanh(h1)\n",
    "\n",
    "# Map HL to output\n",
    "weights_W2 = tf.Variable(tf.random_normal([hidden_layer_size, output_layer_size], 0, 0.1))\n",
    "bias_W2 = tf.Variable(tf.random_normal([output_layer_size], 0, 0.1))\n",
    "\n",
    "\n",
    "# Output layer\n",
    "yhat = tf.nn.bias_add(\n",
    "        tf.matmul(h2, weights_W2),\n",
    "        bias_W2)\n",
    "\n",
    "\n",
    "# Hidden layer 2\n",
    "weights_W1b = tf.Variable(tf.random_normal([hidden_layer_size, hidden_layer_size], 0, 0.1))\n",
    "bias_W1b = tf.Variable(tf.random_normal([hidden_layer_size], 0, 0.1))\n",
    "h3 = tf.matmul(h2, weights_W1b)\n",
    "h4 = tf.tanh(h3)\n",
    "# h4 = tf.sigmoid(h3)\n",
    "yhat = tf.nn.bias_add(\n",
    "        tf.matmul(h4, weights_W2),\n",
    "        bias_W2)\n",
    "\n",
    "# Hidden layer 3\n",
    "weights_W1c = tf.Variable(tf.random_normal([hidden_layer_size, hidden_layer_size], 0, 0.1))\n",
    "bias_W1c = tf.Variable(tf.random_normal([hidden_layer_size], 0, 0.1))\n",
    "h5 = tf.matmul(h4, weights_W1c)\n",
    "h6 = tf.tanh(h5)\n",
    "yhat = tf.nn.bias_add(\n",
    "        tf.matmul(h6, weights_W2),\n",
    "        bias_W2)\n",
    "\n",
    "\n",
    "# Compute the error\n",
    "# yerror = tf.reduce_logsumexp(tf.subtract(yhat, target))\n",
    "yerror = tf.reduce_logsumexp(tf.subtract(yhat, target))\n",
    "loss = tf.nn.l2_loss(yerror)\n",
    "\n",
    "# Optimise the weights\n",
    "learning_rate=0.1\n",
    "# update_weights = tf.train.GradientDescentOptimizer(learning_rate).minimize(loss)\n",
    "update_weights = tf.train.AdamOptimizer().minimize(loss)"
   ]
  },
  {
   "cell_type": "code",
   "execution_count": 87,
   "metadata": {},
   "outputs": [
    {
     "name": "stdout",
     "output_type": "stream",
     "text": [
      "[[3103.8794]\n",
      " [      nan]]\n"
     ]
    },
    {
     "name": "stderr",
     "output_type": "stream",
     "text": [
      "/usr/local/lib/python2.7/dist-packages/ipykernel_launcher.py:6: RuntimeWarning: invalid value encountered in divide\n",
      "  \n"
     ]
    },
    {
     "data": {
      "image/png": "[encoded data removed]",
      "text/plain": [
       "<Figure size 720x288 with 1 Axes>"
      ]
     },
     "metadata": {},
     "output_type": "display_data"
    }
   ],
   "source": [
    "losses = []\n",
    "training_steps = 100000\n",
    "\n",
    "with tf.Session() as sess:\n",
    "    tf.global_variables_initializer().run()\n",
    "    \n",
    "    for i in range(training_steps):\n",
    "        sess.run(update_weights, feed_dict = {input: X})\n",
    "\n",
    "        loss_ = loss.eval(feed_dict = {input: X})\n",
    "        losses.append(loss_)\n",
    "\n",
    "    def predict(coords):\n",
    "        return yhat.eval(feed_dict = {input: coords})\n",
    "#         return np.argmax(yhat.eval(feed_dict = {input: coords}), axis=1)\n",
    "    \n",
    "#     prediction_areas = [\n",
    "#         [-37.81053, 144.88467], # 1480000\n",
    "#         [-37.82286, 144.87856],  #  705000\n",
    "#         [-0.15239745,  0.21860468] #1035000.0]\n",
    "#     ]\n",
    "    prediction_areas = normalise_all_columns(\n",
    "        make_two_dimensional_ndarray(\n",
    "            [-37.81053, -37.82286],\n",
    "            [144.87856, 144.87856]\n",
    "            # [1480000, 705000]\n",
    "        ))\n",
    "    print(predict(prediction_areas))\n",
    "fig, (ax2) = plt.subplots(1)\n",
    "plt.subplots_adjust(wspace=.3)\n",
    "fig.set_size_inches(10, 4)\n",
    "\n",
    "ax2.plot(range(0, training_steps), losses)\n",
    "ax2.set_ylabel(\"Loss\")\n",
    "ax2.set_xlabel(\"Training steps\")\n",
    "\n",
    "plt.show()"
   ]
  },
  {
   "cell_type": "markdown",
   "metadata": {},
   "source": []
  }
 ],
 "metadata": {
  "kernelspec": {
   "display_name": "Python 2",
   "language": "python",
   "name": "python2"
  },
  "language_info": {
   "codemirror_mode": {
    "name": "ipython",
    "version": 2
   },
   "file_extension": ".py",
   "mimetype": "text/x-python",
   "name": "python",
   "nbconvert_exporter": "python",
   "pygments_lexer": "ipython2",
   "version": "2.7.12"
  }
 },
 "nbformat": 4,
 "nbformat_minor": 2
}
