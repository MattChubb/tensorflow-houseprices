{
 "cells": [
  {
   "cell_type": "code",
   "execution_count": 1,
   "metadata": {},
   "outputs": [],
   "source": [
    "# Package imports\n",
    "import matplotlib.pyplot as plt\n",
    "import numpy as np\n",
    "import sklearn\n",
    "import sklearn.datasets\n",
    "import sklearn.linear_model\n",
    "import matplotlib \n",
    "\n",
    "# Display plots inline and change default figure size\n",
    "%matplotlib inline\n",
    "matplotlib.rcParams['figure.figsize'] = (10.0, 8.0)"
   ]
  },
  {
   "cell_type": "code",
   "execution_count": 2,
   "metadata": {},
   "outputs": [],
   "source": [
    "def normalise(array):\n",
    "    # ((X - X_min)/(X_max - X_min) * 2) - 1\n",
    "    min_value = array.min()\n",
    "    max_value = array.max()\n",
    "    \n",
    "    normalised_array = ((array - min_value)/(max_value - min_value) * 2) - 1\n",
    "    \n",
    "    return normalised_array\n",
    "\n",
    "def make_n_dimensional_ndarray(features):\n",
    "    return np.array(features).transpose()\n",
    "\n",
    "def normalise_all_columns(ndarray):\n",
    "    cols = ndarray.shape[1]\n",
    "    columns = []\n",
    "    for i in range(cols):\n",
    "        unnormalised = np.array([element[i] for element in ndarray])\n",
    "        normalised = normalise(unnormalised)\n",
    "        columns.append(normalised)\n",
    "    return np.array(columns).transpose()\n"
   ]
  },
  {
   "cell_type": "code",
   "execution_count": 3,
   "metadata": {},
   "outputs": [],
   "source": [
    "# Helper function to plot a decision boundary.\n",
    "def plot_decision_boundary(pred_func, X, y):\n",
    "    # Set min and max values and give it some padding\n",
    "    x_min, x_max = X[:, 0].min(), X[:, 0].max()\n",
    "    y_min, y_max = X[:, 1].min(), X[:, 1].max()\n",
    "    \n",
    "    x_range = x_max - x_min\n",
    "    y_range = y_max - y_min\n",
    "    \n",
    "    padding_ratio = 0.1\n",
    "    \n",
    "    x_pad = x_range * padding_ratio\n",
    "    y_pad = y_range * padding_ratio\n",
    "    \n",
    "    x_h = x_range / 1000\n",
    "    y_h = y_range / 1000\n",
    "    # Generate a grid of points with distance h between them\n",
    "    xx, yy = np.meshgrid(\n",
    "        np.arange(x_min - x_pad, x_max + x_pad, x_h),\n",
    "        np.arange(y_min - y_pad, y_max + y_pad, y_h)\n",
    "    )\n",
    "    # Predict the function value for the whole gid\n",
    "    Z = pred_func(np.c_[xx.ravel(), yy.ravel()])\n",
    "    Z = Z.reshape(xx.shape)\n",
    "    \n",
    "    # Plot the contour and training examples\n",
    "    plt.figure(figsize=(20,20))\n",
    "#     plt.contourf(xx, yy, Z, cmap=plt.cm.Spectral)\n",
    "    plt.contour(xx, yy, Z, cmap=plt.cm.Spectral)\n",
    "    plt.scatter(X[:, 0], X[:, 1], c=y, cmap=plt.cm.Spectral)"
   ]
  },
  {
   "cell_type": "code",
   "execution_count": 4,
   "metadata": {},
   "outputs": [
    {
     "name": "stdout",
     "output_type": "stream",
     "text": [
      "(2., 1480000., -37.7996, 144.9984)\n",
      "3000\n",
      "(array([ 0.06881273,  0.10553539, -0.7777778 ], dtype=float32), -0.6253394, 1034999.9383091927, 1035000.0)\n"
     ]
    }
   ],
   "source": [
    "# Import house price data\n",
    "training_data_size = 3000\n",
    "melbourne_dtypes = {\n",
    "    'names': ('rooms','price', 'lat', 'lon'),\n",
    "    'formats': ('float32', 'float32', 'float32', 'float32')\n",
    "}\n",
    "melbourne_txns = np.genfromtxt('data/Melbourne_housing_noblanks.csv',\n",
    "                             delimiter=',', usecols=(2,4,17,18), skip_header=1, \n",
    "                             dtype=melbourne_dtypes, max_rows=training_data_size)\n",
    "print(melbourne_txns[0])\n",
    "\n",
    "y_prices = np.array([txn[1] for txn in melbourne_txns])\n",
    "max_price = np.amax(y_prices)\n",
    "\n",
    "def norm_price(price):\n",
    "    return (price / (max_price/2)) - 1\n",
    "def unnorm_price(price):\n",
    "    return (price + 1)*(max_price/2)\n",
    "\n",
    "y_norm_prices = norm_price(y_prices)\n",
    "\n",
    "rooms_unnormalied = np.array([txn[0] for txn in melbourne_txns])\n",
    "lat_unnormalised = np.array([txn[2] for txn in melbourne_txns])\n",
    "lon_unnormalised = np.array([txn[3] for txn in melbourne_txns])\n",
    "\n",
    "X = normalise_all_columns(\n",
    "    make_n_dimensional_ndarray(\n",
    "        [lat_unnormalised,\n",
    "        lon_unnormalised,\n",
    "        rooms_unnormalied\n",
    "        ]\n",
    "    )\n",
    ")\n",
    "\n",
    "# X = np.array([[txn[1], txn[2]] for txn in melbourne_txns])\n",
    "\n",
    "print(y_norm_prices.size)\n",
    "print(X[1], y_norm_prices[1], unnorm_price(y_norm_prices[1]), y_prices[1])"
   ]
  },
  {
   "cell_type": "code",
   "execution_count": 5,
   "metadata": {},
   "outputs": [],
   "source": [
    "# Imports and config\n",
    "import tensorflow as tf\n",
    "import numpy as np\n",
    "\n",
    "num_of_results = y_prices.size\n",
    "input_layer_size = 3\n",
    "hidden_layer_size = 30\n",
    "output_layer_size = 1"
   ]
  },
  {
   "cell_type": "code",
   "execution_count": 24,
   "metadata": {},
   "outputs": [],
   "source": [
    "# Manually-created NN\n",
    "\n",
    "# Our input layer is the x and y coords\n",
    "input = tf.placeholder(tf.float32)\n",
    "target = tf.constant(y_norm_prices)\n",
    "\n",
    "# Offset in\n",
    "# offset_in = tf.Variable(tf.random_normal([input_layer_size], 0, 0.1))\n",
    "# scale_in = tf.Variable(tf.random_normal([input_layer_size], 0, 0.1))\n",
    "# input_offset = input*scale_in + offset_in\n",
    "input_offset = input\n",
    "\n",
    "# Weights for mapping input to HL\n",
    "weights_W1 = tf.Variable(tf.random_normal([input_layer_size, hidden_layer_size], 0, 0.1))\n",
    "bias_W1 = tf.Variable(tf.random_normal([hidden_layer_size], 0, 0.1))\n",
    "\n",
    "# Hidden layer\n",
    "# h1 = tf.nn.bias_add(tf.matmul(input, weights_W1), bias_W1)\n",
    "h1 = tf.nn.bias_add(tf.matmul(input_offset, weights_W1), bias_W1)\n",
    "h2 = tf.tanh(h1)\n",
    "\n",
    "# Map HL to output\n",
    "weights_W2 = tf.Variable(tf.random_normal([hidden_layer_size, output_layer_size], 0, 0.1))\n",
    "bias_W2 = tf.Variable(tf.random_normal([output_layer_size], 0, 0.1))\n",
    "\n",
    "# Output layer\n",
    "yhat = tf.nn.bias_add(\n",
    "        tf.matmul(h2, weights_W2),\n",
    "        bias_W2)\n",
    "\n",
    "# Offset out\n",
    "offset_out = tf.Variable(tf.random_normal([output_layer_size], 0, 0.1))\n",
    "scale_out = tf.Variable(tf.random_normal([output_layer_size], 100000, 0.1))\n",
    "yhat_out = yhat*scale_out + offset_out\n",
    "\n",
    "# Hidden layer 2\n",
    "weights_W1b = tf.Variable(tf.random_normal([hidden_layer_size, hidden_layer_size], 0, 0.1))\n",
    "bias_W1b = tf.Variable(tf.random_normal([hidden_layer_size], 0, 0.1))\n",
    "h3 = tf.matmul(h2, weights_W1b)\n",
    "# h3 = tf.nn.bias_add(tf.matmul(h2, weights_W1b), bias_W1b)\n",
    "h4 = tf.tanh(h3)\n",
    "# h4 = tf.sigmoid(h3)\n",
    "yhat = tf.nn.bias_add(\n",
    "        tf.matmul(h4, weights_W2),\n",
    "        bias_W2)\n",
    "\n",
    "# Hidden layer 3\n",
    "weights_W1c = tf.Variable(tf.random_normal([hidden_layer_size, hidden_layer_size], 0, 0.1))\n",
    "bias_W1c = tf.Variable(tf.random_normal([hidden_layer_size], 0, 0.1))\n",
    "# h5 = tf.matmul(h4, weights_W1c)\n",
    "h5 = tf.nn.bias_add(tf.matmul(h4, weights_W1c), bias_W1c)\n",
    "h6 = tf.tanh(h5)\n",
    "yhat = tf.nn.bias_add(\n",
    "        tf.matmul(h6, weights_W2),\n",
    "        bias_W2)\n",
    "\n",
    "\n",
    "# Compute the error\n",
    "# yerror = tf.reduce_logsumexp(tf.subtract(yhat, target))\n",
    "# yerror = tf.reduce_logsumexp(tf.subtract(yhat_out, target))\n",
    "# yerror_unnormalised = tf.subtract(yhat_out, target)\n",
    "yerror_unnormalised = tf.divide(tf.subtract(yhat_out, target), target)\n",
    "# yerror = tf.divide(yerror_unnormalised, training_data_size)\n",
    "loss = tf.nn.l2_loss(yerror_unnormalised)\n",
    "# loss = yerror\n",
    "\n",
    "# Optimise the weights\n",
    "# update_weights = tf.train.GradientDescentOptimizer(learning_rate).minimize(loss)\n",
    "update_weights = tf.train.AdamOptimizer().minimize(loss)"
   ]
  },
  {
   "cell_type": "code",
   "execution_count": 25,
   "metadata": {},
   "outputs": [],
   "source": [
    "def take_sample(size):\n",
    "    indexes = np.random.randint(0, high=training_data_size-1, size=size)\n",
    "    return X[indexes]"
   ]
  },
  {
   "cell_type": "code",
   "execution_count": 26,
   "metadata": {},
   "outputs": [
    {
     "name": "stdout",
     "output_type": "stream",
     "text": [
      "Model saved in path: ./model.ckpt\n"
     ]
    }
   ],
   "source": [
    "# Train NN and predict\n",
    "\n",
    "training_steps = 10\n",
    "epochs = 200\n",
    "train_sample_size = 100\n",
    "test_sample_size = 10\n",
    "train_losses = []\n",
    "test_losses = []\n",
    "\n",
    "saver = tf.train.Saver()\n",
    "with tf.Session() as sess:\n",
    "    tf.global_variables_initializer().run()\n",
    "    \n",
    "    for j in range(epochs):\n",
    "        # Take random samples for training and testing\n",
    "        X_test = take_sample(test_sample_size)\n",
    "        X_train = take_sample(train_sample_size)\n",
    "        \n",
    "        # Train on sample\n",
    "        for i in range(training_steps):\n",
    "            sess.run(update_weights, feed_dict = {input: X_train})\n",
    "\n",
    "            loss_train = loss.eval(feed_dict = {input: X_train})\n",
    "            train_losses.append(loss_train)\n",
    "            \n",
    "            loss_test = loss.eval(feed_dict = {input: X_test})\n",
    "            test_losses.append(loss_test)\n",
    "        \n",
    "    save_path = saver.save(sess, \"./model.ckpt\")\n",
    "    print(\"Model saved in path: %s\" % save_path)\n",
    "\n",
    "    "
   ]
  },
  {
   "cell_type": "code",
   "execution_count": 27,
   "metadata": {},
   "outputs": [
    {
     "data": {
      "image/png": "[encoded data removed]",
      "text/plain": [
       "<Figure size 720x288 with 1 Axes>"
      ]
     },
     "metadata": {},
     "output_type": "display_data"
    }
   ],
   "source": [
    "fig, (ax2) = plt.subplots(1)\n",
    "plt.subplots_adjust(wspace=.3)\n",
    "fig.set_size_inches(10, 4)\n",
    "\n",
    "skip=150\n",
    "total_steps = training_steps*epochs\n",
    "ax2.plot(range(0, total_steps-skip), train_losses[skip:total_steps], test_losses[skip:total_steps])\n",
    "ax2.set_ylabel(\"Loss\")\n",
    "ax2.set_xlabel(\"Training steps\")\n",
    "\n",
    "plt.show()"
   ]
  },
  {
   "cell_type": "code",
   "execution_count": 28,
   "metadata": {},
   "outputs": [
    {
     "name": "stdout",
     "output_type": "stream",
     "text": [
      "INFO:tensorflow:Restoring parameters from ./model.ckpt\n",
      "Model restored.\n",
      "Actual: 1480000.0, Predicted: -19461616, X: [-0.3094527  0.9000907 -0.3333333]\n",
      "Actual: 1035000.0, Predicted: -76266048, X: [ 0.6011443   0.00326681 -0.3333333 ]\n",
      "Actual: 1465000.0, Predicted: -49877032, X: [ 0.6431737  -0.01569873 -0.5555556 ]\n",
      "Actual: 850000.0, Predicted: -32138222, X: [-0.653076   0.4510889 -0.3333333]\n",
      "Actual: 1600000.0, Predicted: 119696496, X: [-0.2608217  0.714519  -0.7777778]\n",
      "Actual: 941000.0, Predicted: -11124263, X: [ 0.41985476 -0.11388385 -0.7777778 ]\n",
      "Actual: 1876000.0, Predicted: 14783125, X: [-0.35971832  0.6294918  -0.5555556 ]\n",
      "Actual: 1636000.0, Predicted: 128594712, X: [-0.35063344  0.44927406 -1.        ]\n",
      "Actual: 300000.0, Predicted: 149259280, X: [ 0.24680138  0.77522683 -0.5555556 ]\n"
     ]
    }
   ],
   "source": [
    "# Output some examples\n",
    "\n",
    "with tf.Session() as sess:\n",
    "  # Restore variables from disk.\n",
    "    saver.restore(sess, \"./model.ckpt\")\n",
    "    print(\"Model restored.\")\n",
    "    \n",
    "    def predict(coords):\n",
    "        return yhat_out.eval(feed_dict = {input: coords})\n",
    "\n",
    "    examples = take_sample(test_sample_size)\n",
    "    predictions = predict(examples)\n",
    "    for i in range(9):\n",
    "        print('Actual: {}, Predicted: {}, X: {}'.format(y_prices[i], int(unnorm_price(predictions[i])), examples[i]))    \n",
    "#     for n in examples:\n",
    "#         prediction_area = X[n]\n",
    "#         prediction = [predict(prediction_area)]\n",
    "#         print('Actual: {}, Predicted: {}, X: {}'.format(y_prices[n], prediction, prediction_area))\n",
    "        \n",
    "#     plot_decision_boundary(predict, X, y_prices)"
   ]
  },
  {
   "cell_type": "code",
   "execution_count": null,
   "metadata": {},
   "outputs": [],
   "source": []
  },
  {
   "cell_type": "markdown",
   "metadata": {},
   "source": []
  },
  {
   "cell_type": "code",
   "execution_count": null,
   "metadata": {},
   "outputs": [],
   "source": []
  },
  {
   "cell_type": "code",
   "execution_count": null,
   "metadata": {},
   "outputs": [],
   "source": []
  },
  {
   "cell_type": "code",
   "execution_count": null,
   "metadata": {},
   "outputs": [],
   "source": []
  }
 ],
 "metadata": {
  "kernelspec": {
   "display_name": "Python 2",
   "language": "python",
   "name": "python2"
  },
  "language_info": {
   "codemirror_mode": {
    "name": "ipython",
    "version": 2
   },
   "file_extension": ".py",
   "mimetype": "text/x-python",
   "name": "python",
   "nbconvert_exporter": "python",
   "pygments_lexer": "ipython2",
   "version": "2.7.12"
  }
 },
 "nbformat": 4,
 "nbformat_minor": 2
}
